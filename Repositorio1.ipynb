{
  "nbformat": 4,
  "nbformat_minor": 0,
  "metadata": {
    "colab": {
      "name": "Untitled1.ipynb",
      "provenance": [],
      "mount_file_id": "1BTim730IeB3bPUo1gD1I8fLU7lkqDSVO",
      "authorship_tag": "ABX9TyPX4n4ASIGfXZPBGiNjLVvp",
      "include_colab_link": true
    },
    "kernelspec": {
      "name": "python3",
      "display_name": "Python 3"
    },
    "language_info": {
      "name": "python"
    }
  },
  "cells": [
    {
      "cell_type": "markdown",
      "metadata": {
        "id": "view-in-github",
        "colab_type": "text"
      },
      "source": [
        "<a href=\"https://colab.research.google.com/github/niconavas324/Repositorio1/blob/main/Repositorio1.ipynb\" target=\"_parent\"><img src=\"https://colab.research.google.com/assets/colab-badge.svg\" alt=\"Open In Colab\"/></a>"
      ]
    },
    {
      "cell_type": "markdown",
      "source": [
        "Cambio en README.md - Main"
      ],
      "metadata": {
        "id": "QT89mqV2DU9c"
      }
    },
    {
      "cell_type": "code",
      "source": [
        "cd https://github.com/niconavas324/Repositorio1\n",
        "print( \"Cambio en Readme\")\n"
      ],
      "metadata": {
        "colab": {
          "base_uri": "https://localhost:8080/"
        },
        "id": "BZjZ8bEQDcjU",
        "outputId": "671684bb-cd3a-4c4a-cc73-cb1b9ced207e"
      },
      "execution_count": 13,
      "outputs": [
        {
          "output_type": "stream",
          "name": "stdout",
          "text": [
            "Cambio en Readme\n"
          ]
        }
      ]
    }
  ]
}